{
 "cells": [
  {
   "cell_type": "code",
   "execution_count": 1,
   "metadata": {},
   "outputs": [
    {
     "name": "stderr",
     "output_type": "stream",
     "text": [
      "c:\\Users\\PF0008\\anaconda3\\envs\\genEnv\\Lib\\site-packages\\sentence_transformers\\cross_encoder\\CrossEncoder.py:11: TqdmExperimentalWarning: Using `tqdm.autonotebook.tqdm` in notebook mode. Use `tqdm.tqdm` instead to force console mode (e.g. in jupyter console)\n",
      "  from tqdm.autonotebook import tqdm, trange\n"
     ]
    }
   ],
   "source": [
    "import numpy as np\n",
    "from PIL import Image\n",
    "from tqdm import tqdm\n",
    "\n",
    "import torch\n",
    "import torch.nn as nn\n",
    "from torch.utils.data import DataLoader\n",
    "from sentence_transformers import SentenceTransformer, util\n",
    "\n",
    "import clip\n",
    "import open_clip\n",
    "\n",
    "from Utils.dataset import CustomDataset"
   ]
  },
  {
   "cell_type": "code",
   "execution_count": 2,
   "metadata": {},
   "outputs": [],
   "source": [
    "batch_size = 16\n",
    "device = torch.device('cuda')"
   ]
  },
  {
   "cell_type": "code",
   "execution_count": 3,
   "metadata": {},
   "outputs": [],
   "source": [
    "model, preprocess = clip.load(\"ViT-B/32\", device=device)"
   ]
  },
  {
   "cell_type": "code",
   "execution_count": 4,
   "metadata": {},
   "outputs": [],
   "source": [
    "train_dataset = CustomDataset('Dataset/train/')\n",
    "test_dataset = CustomDataset('Dataset/test/')"
   ]
  },
  {
   "cell_type": "code",
   "execution_count": 5,
   "metadata": {},
   "outputs": [],
   "source": [
    "train_dataloader = DataLoader(train_dataset, \n",
    "                              batch_size=batch_size,\n",
    "                              shuffle=True)\n",
    "test_dataloader = DataLoader(test_dataset,\n",
    "                             batch_size=batch_size,\n",
    "                             shuffle=True)"
   ]
  },
  {
   "cell_type": "code",
   "execution_count": 7,
   "metadata": {},
   "outputs": [],
   "source": [
    "num_epochs = 10\n",
    "temperature = 0.1\n",
    "\n",
    "optimizer = torch.optim.Adam(model.parameters(), \n",
    "                             lr = 0.00001,\n",
    "                             weight_decay=0.2,\n",
    "                             betas=(0.9, 0.98),\n",
    "                             eps = 0.001)\n",
    "\n",
    "criterion = nn.CrossEntropyLoss()"
   ]
  },
  {
   "cell_type": "code",
   "execution_count": 13,
   "metadata": {},
   "outputs": [
    {
     "name": "stderr",
     "output_type": "stream",
     "text": [
      "Epoch 0/10, Loss: 0.0022: 100%|██████████| 878/878 [36:40<00:00,  2.51s/it]\n",
      "Epoch 1/10, Loss: 0.0006: 100%|██████████| 878/878 [36:05<00:00,  2.47s/it]\n",
      "Epoch 2/10, Loss: 0.8809: 100%|██████████| 878/878 [36:32<00:00,  2.50s/it]\n",
      "Epoch 3/10, Loss: 0.0166: 100%|██████████| 878/878 [35:21<00:00,  2.42s/it]\n",
      "Epoch 4/10, Loss: 0.8491: 100%|██████████| 878/878 [35:23<00:00,  2.42s/it]\n",
      "Epoch 5/10, Loss: 0.0002: 100%|██████████| 878/878 [35:12<00:00,  2.41s/it]\n",
      "Epoch 6/10, Loss: 0.6509: 100%|██████████| 878/878 [35:09<00:00,  2.40s/it]\n",
      "Epoch 7/10, Loss: 0.7090: 100%|██████████| 878/878 [35:18<00:00,  2.41s/it]\n",
      "Epoch 8/10, Loss: 0.1095: 100%|██████████| 878/878 [35:17<00:00,  2.41s/it]\n",
      "Epoch 9/10, Loss: 0.7095: 100%|██████████| 878/878 [35:09<00:00,  2.40s/it]\n"
     ]
    }
   ],
   "source": [
    "model.train()\n",
    "for epoch in range(num_epochs):\n",
    "    pbar = tqdm(train_dataloader, total=len(train_dataloader))\n",
    "    for batch in pbar:\n",
    "        optimizer.zero_grad()\n",
    "\n",
    "        images, texts = batch\n",
    "\n",
    "        imgs = torch.stack([preprocess(Image.open(image)) for image in images]).to(device)\n",
    "        texs = clip.tokenize(texts).to(device)\n",
    "        \n",
    "        image_emb = model.encode_image(imgs)\n",
    "        text_emb = model.encode_text(texs)\n",
    "\n",
    "        logits = torch.matmul(image_emb, text_emb.T) * torch.exp(torch.tensor(temperature))\n",
    "        ground_truth = torch.arange(len(batch[0]), device=device, dtype=torch.long)\n",
    "\n",
    "        image_loss = criterion(logits, ground_truth)\n",
    "        text_loss = criterion(logits.T, ground_truth)\n",
    "        loss = (image_loss + text_loss) / 2\n",
    "        \n",
    "        loss.backward()\n",
    "        optimizer.step()\n",
    "\n",
    "        pbar.set_description(f\"Epoch {epoch}/{num_epochs}, Loss: {loss.item():.4f}\")\n",
    "    \n",
    "    torch.save(model, f'Results/RN_Model_{epoch}.pt')"
   ]
  }
 ],
 "metadata": {
  "kernelspec": {
   "display_name": "generalEnv3.11",
   "language": "python",
   "name": "python3"
  },
  "language_info": {
   "codemirror_mode": {
    "name": "ipython",
    "version": 3
   },
   "file_extension": ".py",
   "mimetype": "text/x-python",
   "name": "python",
   "nbconvert_exporter": "python",
   "pygments_lexer": "ipython3",
   "version": "3.11.9"
  }
 },
 "nbformat": 4,
 "nbformat_minor": 2
}
